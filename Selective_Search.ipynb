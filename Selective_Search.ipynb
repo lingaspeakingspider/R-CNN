{
  "nbformat": 4,
  "nbformat_minor": 0,
  "metadata": {
    "colab": {
      "provenance": []
    },
    "kernelspec": {
      "name": "python3",
      "display_name": "Python 3"
    },
    "language_info": {
      "name": "python"
    }
  },
  "cells": [
    {
      "cell_type": "code",
      "source": [
        "import ray\n",
        "import time\n",
        "import os\n",
        "import cv2 as cv\n",
        "import skimage\n",
        "import selective_search\n",
        "\n",
        "start=time.perf_counter()\n",
        "\n",
        "@ray.remote\n",
        "def selective(image, src_path: str , dst_path: str):\n",
        "  os.chdir(src_path)\n",
        "  img = skimage.io.imread(image)\n",
        "\n",
        "  boxes = selective_search.selective_search(img, mode='single')\n",
        "  #boxes_filter = selective_search.box_filter(boxes, min_size=20, topN=80)\n",
        "\n",
        "  # drawing rectangles on the original image\n",
        "  img = cv.imread(image)\n",
        "  for x1, y1, x2, y2 in boxes:\n",
        "      img = cv.rectangle(img, (x1, y1), (x2, y2), color=(0,255,0), thickness=1)\n",
        "\n",
        "  os.chdir(dst_path)\n",
        "  cv.imwrite(image + \"(selective).png\", img)\n",
        "\n",
        "if not ray.is_initialized():\n",
        "    ray.init()\n",
        "\n",
        "dataset=\"/content/resized\"\n",
        "dataset_list=os.listdir(dataset)\n",
        "length=len(dataset_list)\n",
        "threads=[]\n",
        "\n",
        "for i in dataset_list:\n",
        "  futures=selective.remote(i, dataset, \"/content/selective\")\n",
        "  threads.append(futures)\n",
        "\n",
        "\n",
        "for thread in threads:\n",
        "  ray.get(thread)\n",
        "\n",
        "ray.shutdown()\n",
        "\n",
        "finish=time.perf_counter()\n",
        "\n",
        "print(\"Total time: {}\".format(round(finish-start,2)))\n",
        "print(\"Total files in 'resized': {}\".format(length))\n",
        "print(\"Total files in 'selective': {}\".format(len(os.listdir(\"/content/selective\"))-1))\n"
      ],
      "metadata": {
        "colab": {
          "base_uri": "https://localhost:8080/"
        },
        "id": "ABF3Q_i2TPrE",
        "outputId": "c4ea061a-fef2-4582-a9a4-dc4213442a2b"
      },
      "execution_count": 38,
      "outputs": [
        {
          "output_type": "stream",
          "name": "stderr",
          "text": [
            "2023-07-01 12:04:48,464\tINFO worker.py:1636 -- Started a local Ray instance.\n"
          ]
        },
        {
          "output_type": "stream",
          "name": "stdout",
          "text": [
            "Total time: 183.13\n",
            "Total files in 'resized': 47\n",
            "Total files in 'selective': 47\n"
          ]
        }
      ]
    },
    {
      "cell_type": "code",
      "source": [
        "\n",
        "start=time.perf_counter()\n",
        "def selective(image, src_path: str , dst_path: str):\n",
        "  os.chdir(src_path)\n",
        "  img = skimage.io.imread(image)\n",
        "\n",
        "  boxes = selective_search.selective_search(img, mode='single')\n",
        "  #boxes_filter = selective_search.box_filter(boxes, min_size=20, topN=80)\n",
        "\n",
        "  # drawing rectangles on the original image\n",
        "  img = cv.imread(image)\n",
        "  for x1, y1, x2, y2 in boxes:\n",
        "      img = cv.rectangle(img, (x1, y1), (x2, y2), color=(0,255,0), thickness=1)\n",
        "\n",
        "  os.chdir(dst_path)\n",
        "  cv.imwrite(image + \"(selective).png\", img)\n",
        "\n",
        "dataset=\"/content/resized\"\n",
        "dataset_list=os.listdir(dataset)\n",
        "for i in dataset_list:\n",
        "  selective(i, dataset, \"/content/selective2\")\n",
        "\n",
        "finish=time.perf_counter()\n",
        "print(\"Total time: {}\".format(round(finish-start,2)))\n",
        "print(\"Total files in 'resized': {}\".format(length))\n",
        "print(\"Total files in 'selective': {}\".format(len(os.listdir(\"/content/selective\"))-1))\n"
      ],
      "metadata": {
        "colab": {
          "base_uri": "https://localhost:8080/"
        },
        "id": "R3gb85yOWluh",
        "outputId": "f8f4a6ff-b703-4174-e9af-57d5db826013"
      },
      "execution_count": 39,
      "outputs": [
        {
          "output_type": "stream",
          "name": "stdout",
          "text": [
            "Total time: 175.33\n",
            "Total files in 'resized': 47\n",
            "Total files in 'selective': 47\n"
          ]
        }
      ]
    }
  ]
}
